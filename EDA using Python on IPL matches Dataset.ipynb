{
 "cells": [
  {
   "cell_type": "markdown",
   "id": "relevant-arrival",
   "metadata": {
    "papermill": {
     "duration": 0.020312,
     "end_time": "2021-09-04T15:01:33.745300",
     "exception": false,
     "start_time": "2021-09-04T15:01:33.724988",
     "status": "completed"
    },
    "tags": []
   },
   "source": [
    "# IPL Matches Dataset Exploratory Data Analysis (EDA)\n",
    "\n",
    "## Introduction\n",
    "\n",
    "Indian Premier League(IPL) is a professional Twenty20 cricket league in India contested during March or April and May of every year by eight teams representing eight different cities in India. The league was founded by the Board of Control for Cricket in India(BCCI) in 2008.\n",
    "\n",
    "The dataset that is going to be used is 'IPL MAtches Dataset'. It contains IPL matches data from 2008 to 2019,we are going to clean the data if required and perform  Exploratory Data Analysis (EDA). The tools that are going to be used for the EDA would be numpy, pandas, matplotlib and seaborn."
   ]
  },
  {
   "cell_type": "markdown",
   "id": "cooked-american",
   "metadata": {
    "papermill": {
     "duration": 0.019185,
     "end_time": "2021-09-04T15:01:33.784506",
     "exception": false,
     "start_time": "2021-09-04T15:01:33.765321",
     "status": "completed"
    },
    "tags": []
   },
   "source": [
    "## Importing Libraries"
   ]
  },
  {
   "cell_type": "code",
   "execution_count": 1,
   "id": "effective-future",
   "metadata": {
    "_cell_guid": "b1076dfc-b9ad-4769-8c92-a6c4dae69d19",
    "_uuid": "8f2839f25d086af736a60e9eeb907d3b93b6e0e5",
    "execution": {
     "iopub.execute_input": "2021-09-04T15:01:33.828986Z",
     "iopub.status.busy": "2021-09-04T15:01:33.827744Z",
     "iopub.status.idle": "2021-09-04T15:01:34.784304Z",
     "shell.execute_reply": "2021-09-04T15:01:34.783217Z",
     "shell.execute_reply.started": "2021-09-04T15:01:08.384764Z"
    },
    "papermill": {
     "duration": 0.979852,
     "end_time": "2021-09-04T15:01:34.784512",
     "exception": false,
     "start_time": "2021-09-04T15:01:33.804660",
     "status": "completed"
    },
    "tags": []
   },
   "outputs": [],
   "source": [
    "# Importing Numpy\n",
    "import numpy as np\n",
    "# Importing Matplotlib\n",
    "import matplotlib.pyplot as plt\n",
    "# plt is athe alias name for pyplot\n",
    "import pandas as pd\n",
    "# pd is the alias for pandas\n",
    "import seaborn as sns\n",
    "# seaborn is aliased as sns\n",
    "\n",
    "import warnings\n",
    "warnings.filterwarnings(\"ignore\")"
   ]
  },
  {
   "cell_type": "markdown",
   "id": "committed-width",
   "metadata": {
    "papermill": {
     "duration": 0.019103,
     "end_time": "2021-09-04T15:01:34.823181",
     "exception": false,
     "start_time": "2021-09-04T15:01:34.804078",
     "status": "completed"
    },
    "tags": []
   },
   "source": [
    "## Loading Data into Dataframe"
   ]
  },
  {
   "cell_type": "code",
   "execution_count": 3,
   "id": "limiting-yemen",
   "metadata": {
    "execution": {
     "iopub.execute_input": "2021-09-04T15:01:34.869133Z",
     "iopub.status.busy": "2021-09-04T15:01:34.868318Z",
     "iopub.status.idle": "2021-09-04T15:01:34.892860Z",
     "shell.execute_reply": "2021-09-04T15:01:34.892249Z",
     "shell.execute_reply.started": "2021-07-16T09:13:55.262715Z"
    },
    "papermill": {
     "duration": 0.049378,
     "end_time": "2021-09-04T15:01:34.893027",
     "exception": false,
     "start_time": "2021-09-04T15:01:34.843649",
     "status": "completed"
    },
    "tags": []
   },
   "outputs": [],
   "source": [
    "# Loading the Dataset\n",
    "df_matches = pd.read_csv('IPL_matches_Dataset.csv')"
   ]
  },
  {
   "cell_type": "markdown",
   "id": "least-standing",
   "metadata": {
    "papermill": {
     "duration": 0.020492,
     "end_time": "2021-09-04T15:01:34.933021",
     "exception": false,
     "start_time": "2021-09-04T15:01:34.912529",
     "status": "completed"
    },
    "tags": []
   },
   "source": [
    "## Exploring the Dataset"
   ]
  },
  {
   "cell_type": "code",
   "execution_count": 4,
   "id": "chinese-competition",
   "metadata": {
    "execution": {
     "iopub.execute_input": "2021-09-04T15:01:34.984702Z",
     "iopub.status.busy": "2021-09-04T15:01:34.983786Z",
     "iopub.status.idle": "2021-09-04T15:01:35.013541Z",
     "shell.execute_reply": "2021-09-04T15:01:35.013011Z",
     "shell.execute_reply.started": "2021-07-16T09:13:55.291248Z"
    },
    "papermill": {
     "duration": 0.061084,
     "end_time": "2021-09-04T15:01:35.013688",
     "exception": false,
     "start_time": "2021-09-04T15:01:34.952604",
     "status": "completed"
    },
    "tags": []
   },
   "outputs": [
    {
     "data": {
      "text/html": [
       "<div>\n",
       "<style scoped>\n",
       "    .dataframe tbody tr th:only-of-type {\n",
       "        vertical-align: middle;\n",
       "    }\n",
       "\n",
       "    .dataframe tbody tr th {\n",
       "        vertical-align: top;\n",
       "    }\n",
       "\n",
       "    .dataframe thead th {\n",
       "        text-align: right;\n",
       "    }\n",
       "</style>\n",
       "<table border=\"1\" class=\"dataframe\">\n",
       "  <thead>\n",
       "    <tr style=\"text-align: right;\">\n",
       "      <th></th>\n",
       "      <th>id</th>\n",
       "      <th>Season</th>\n",
       "      <th>city</th>\n",
       "      <th>date</th>\n",
       "      <th>team1</th>\n",
       "      <th>team2</th>\n",
       "      <th>toss_winner</th>\n",
       "      <th>toss_decision</th>\n",
       "      <th>result</th>\n",
       "      <th>dl_applied</th>\n",
       "      <th>winner</th>\n",
       "      <th>win_by_runs</th>\n",
       "      <th>win_by_wickets</th>\n",
       "      <th>player_of_match</th>\n",
       "      <th>venue</th>\n",
       "      <th>umpire1</th>\n",
       "      <th>umpire2</th>\n",
       "      <th>umpire3</th>\n",
       "    </tr>\n",
       "  </thead>\n",
       "  <tbody>\n",
       "    <tr>\n",
       "      <th>0</th>\n",
       "      <td>1</td>\n",
       "      <td>IPL-2017</td>\n",
       "      <td>Hyderabad</td>\n",
       "      <td>05-04-2017</td>\n",
       "      <td>Sunrisers Hyderabad</td>\n",
       "      <td>Royal Challengers Bangalore</td>\n",
       "      <td>Royal Challengers Bangalore</td>\n",
       "      <td>field</td>\n",
       "      <td>normal</td>\n",
       "      <td>0</td>\n",
       "      <td>Sunrisers Hyderabad</td>\n",
       "      <td>35</td>\n",
       "      <td>0</td>\n",
       "      <td>Yuvraj Singh</td>\n",
       "      <td>Rajiv Gandhi International Stadium, Uppal</td>\n",
       "      <td>AY Dandekar</td>\n",
       "      <td>NJ Llong</td>\n",
       "      <td>NaN</td>\n",
       "    </tr>\n",
       "    <tr>\n",
       "      <th>1</th>\n",
       "      <td>2</td>\n",
       "      <td>IPL-2017</td>\n",
       "      <td>Pune</td>\n",
       "      <td>06-04-2017</td>\n",
       "      <td>Mumbai Indians</td>\n",
       "      <td>Rising Pune Supergiant</td>\n",
       "      <td>Rising Pune Supergiant</td>\n",
       "      <td>field</td>\n",
       "      <td>normal</td>\n",
       "      <td>0</td>\n",
       "      <td>Rising Pune Supergiant</td>\n",
       "      <td>0</td>\n",
       "      <td>7</td>\n",
       "      <td>SPD Smith</td>\n",
       "      <td>Maharashtra Cricket Association Stadium</td>\n",
       "      <td>A Nand Kishore</td>\n",
       "      <td>S Ravi</td>\n",
       "      <td>NaN</td>\n",
       "    </tr>\n",
       "    <tr>\n",
       "      <th>2</th>\n",
       "      <td>3</td>\n",
       "      <td>IPL-2017</td>\n",
       "      <td>Rajkot</td>\n",
       "      <td>07-04-2017</td>\n",
       "      <td>Gujarat Lions</td>\n",
       "      <td>Kolkata Knight Riders</td>\n",
       "      <td>Kolkata Knight Riders</td>\n",
       "      <td>field</td>\n",
       "      <td>normal</td>\n",
       "      <td>0</td>\n",
       "      <td>Kolkata Knight Riders</td>\n",
       "      <td>0</td>\n",
       "      <td>10</td>\n",
       "      <td>CA Lynn</td>\n",
       "      <td>Saurashtra Cricket Association Stadium</td>\n",
       "      <td>Nitin Menon</td>\n",
       "      <td>CK Nandan</td>\n",
       "      <td>NaN</td>\n",
       "    </tr>\n",
       "    <tr>\n",
       "      <th>3</th>\n",
       "      <td>4</td>\n",
       "      <td>IPL-2017</td>\n",
       "      <td>Indore</td>\n",
       "      <td>08-04-2017</td>\n",
       "      <td>Rising Pune Supergiant</td>\n",
       "      <td>Kings XI Punjab</td>\n",
       "      <td>Kings XI Punjab</td>\n",
       "      <td>field</td>\n",
       "      <td>normal</td>\n",
       "      <td>0</td>\n",
       "      <td>Kings XI Punjab</td>\n",
       "      <td>0</td>\n",
       "      <td>6</td>\n",
       "      <td>GJ Maxwell</td>\n",
       "      <td>Holkar Cricket Stadium</td>\n",
       "      <td>AK Chaudhary</td>\n",
       "      <td>C Shamshuddin</td>\n",
       "      <td>NaN</td>\n",
       "    </tr>\n",
       "    <tr>\n",
       "      <th>4</th>\n",
       "      <td>5</td>\n",
       "      <td>IPL-2017</td>\n",
       "      <td>Bangalore</td>\n",
       "      <td>08-04-2017</td>\n",
       "      <td>Royal Challengers Bangalore</td>\n",
       "      <td>Delhi Daredevils</td>\n",
       "      <td>Royal Challengers Bangalore</td>\n",
       "      <td>bat</td>\n",
       "      <td>normal</td>\n",
       "      <td>0</td>\n",
       "      <td>Royal Challengers Bangalore</td>\n",
       "      <td>15</td>\n",
       "      <td>0</td>\n",
       "      <td>KM Jadhav</td>\n",
       "      <td>M Chinnaswamy Stadium</td>\n",
       "      <td>NaN</td>\n",
       "      <td>NaN</td>\n",
       "      <td>NaN</td>\n",
       "    </tr>\n",
       "  </tbody>\n",
       "</table>\n",
       "</div>"
      ],
      "text/plain": [
       "   id    Season       city        date                        team1  \\\n",
       "0   1  IPL-2017  Hyderabad  05-04-2017          Sunrisers Hyderabad   \n",
       "1   2  IPL-2017       Pune  06-04-2017               Mumbai Indians   \n",
       "2   3  IPL-2017     Rajkot  07-04-2017                Gujarat Lions   \n",
       "3   4  IPL-2017     Indore  08-04-2017       Rising Pune Supergiant   \n",
       "4   5  IPL-2017  Bangalore  08-04-2017  Royal Challengers Bangalore   \n",
       "\n",
       "                         team2                  toss_winner toss_decision  \\\n",
       "0  Royal Challengers Bangalore  Royal Challengers Bangalore         field   \n",
       "1       Rising Pune Supergiant       Rising Pune Supergiant         field   \n",
       "2        Kolkata Knight Riders        Kolkata Knight Riders         field   \n",
       "3              Kings XI Punjab              Kings XI Punjab         field   \n",
       "4             Delhi Daredevils  Royal Challengers Bangalore           bat   \n",
       "\n",
       "   result  dl_applied                       winner  win_by_runs  \\\n",
       "0  normal           0          Sunrisers Hyderabad           35   \n",
       "1  normal           0       Rising Pune Supergiant            0   \n",
       "2  normal           0        Kolkata Knight Riders            0   \n",
       "3  normal           0              Kings XI Punjab            0   \n",
       "4  normal           0  Royal Challengers Bangalore           15   \n",
       "\n",
       "   win_by_wickets player_of_match                                      venue  \\\n",
       "0               0    Yuvraj Singh  Rajiv Gandhi International Stadium, Uppal   \n",
       "1               7       SPD Smith    Maharashtra Cricket Association Stadium   \n",
       "2              10         CA Lynn     Saurashtra Cricket Association Stadium   \n",
       "3               6      GJ Maxwell                     Holkar Cricket Stadium   \n",
       "4               0       KM Jadhav                      M Chinnaswamy Stadium   \n",
       "\n",
       "          umpire1        umpire2 umpire3  \n",
       "0     AY Dandekar       NJ Llong     NaN  \n",
       "1  A Nand Kishore         S Ravi     NaN  \n",
       "2     Nitin Menon      CK Nandan     NaN  \n",
       "3    AK Chaudhary  C Shamshuddin     NaN  \n",
       "4             NaN            NaN     NaN  "
      ]
     },
     "execution_count": 4,
     "metadata": {},
     "output_type": "execute_result"
    }
   ],
   "source": [
    "# Showing the first five rows\n",
    "df_matches.head()"
   ]
  },
  {
   "cell_type": "code",
   "execution_count": 5,
   "id": "smaller-saver",
   "metadata": {
    "execution": {
     "iopub.execute_input": "2021-09-04T15:01:35.059579Z",
     "iopub.status.busy": "2021-09-04T15:01:35.058850Z",
     "iopub.status.idle": "2021-09-04T15:01:35.062682Z",
     "shell.execute_reply": "2021-09-04T15:01:35.063535Z",
     "shell.execute_reply.started": "2021-07-16T09:13:55.327569Z"
    },
    "papermill": {
     "duration": 0.029403,
     "end_time": "2021-09-04T15:01:35.063786",
     "exception": false,
     "start_time": "2021-09-04T15:01:35.034383",
     "status": "completed"
    },
    "tags": []
   },
   "outputs": [
    {
     "name": "stdout",
     "output_type": "stream",
     "text": [
      "Shape of matches data (756, 18)\n"
     ]
    }
   ],
   "source": [
    "# SHowing the shape Of the Dataset\n",
    "print('Shape of matches data',df_matches.shape)"
   ]
  },
  {
   "cell_type": "code",
   "execution_count": 6,
   "id": "aware-istanbul",
   "metadata": {
    "execution": {
     "iopub.execute_input": "2021-09-04T15:01:35.110243Z",
     "iopub.status.busy": "2021-09-04T15:01:35.109533Z",
     "iopub.status.idle": "2021-09-04T15:01:35.133903Z",
     "shell.execute_reply": "2021-09-04T15:01:35.132969Z",
     "shell.execute_reply.started": "2021-07-16T09:13:55.334601Z"
    },
    "papermill": {
     "duration": 0.048552,
     "end_time": "2021-09-04T15:01:35.134114",
     "exception": false,
     "start_time": "2021-09-04T15:01:35.085562",
     "status": "completed"
    },
    "tags": []
   },
   "outputs": [
    {
     "name": "stdout",
     "output_type": "stream",
     "text": [
      "<class 'pandas.core.frame.DataFrame'>\n",
      "RangeIndex: 756 entries, 0 to 755\n",
      "Data columns (total 18 columns):\n",
      " #   Column           Non-Null Count  Dtype \n",
      "---  ------           --------------  ----- \n",
      " 0   id               756 non-null    int64 \n",
      " 1   Season           756 non-null    object\n",
      " 2   city             749 non-null    object\n",
      " 3   date             756 non-null    object\n",
      " 4   team1            756 non-null    object\n",
      " 5   team2            756 non-null    object\n",
      " 6   toss_winner      756 non-null    object\n",
      " 7   toss_decision    756 non-null    object\n",
      " 8   result           756 non-null    object\n",
      " 9   dl_applied       756 non-null    int64 \n",
      " 10  winner           752 non-null    object\n",
      " 11  win_by_runs      756 non-null    int64 \n",
      " 12  win_by_wickets   756 non-null    int64 \n",
      " 13  player_of_match  752 non-null    object\n",
      " 14  venue            756 non-null    object\n",
      " 15  umpire1          754 non-null    object\n",
      " 16  umpire2          754 non-null    object\n",
      " 17  umpire3          119 non-null    object\n",
      "dtypes: int64(4), object(14)\n",
      "memory usage: 106.4+ KB\n"
     ]
    }
   ],
   "source": [
    "# Showing the info of  the dataset\n",
    "df_matches.info()"
   ]
  },
  {
   "cell_type": "markdown",
   "id": "db075ae8",
   "metadata": {},
   "source": [
    "By Looking at the dataFrame, we know that:\n",
    "1. There are 18 columns of properties with 756 rows of data.\n",
    "2. Column 'id', 'dl_applied','win_by_runs' and 'win_by_wickets' are in the type of 'int64'\n",
    "3. Rest all coumns are in the type of 'Object'"
   ]
  },
  {
   "cell_type": "code",
   "execution_count": 7,
   "id": "acoustic-spirituality",
   "metadata": {
    "execution": {
     "iopub.execute_input": "2021-09-04T15:01:35.185897Z",
     "iopub.status.busy": "2021-09-04T15:01:35.185155Z",
     "iopub.status.idle": "2021-09-04T15:01:35.188070Z",
     "shell.execute_reply": "2021-09-04T15:01:35.188537Z",
     "shell.execute_reply.started": "2021-07-16T09:13:55.361132Z"
    },
    "papermill": {
     "duration": 0.033179,
     "end_time": "2021-09-04T15:01:35.188719",
     "exception": false,
     "start_time": "2021-09-04T15:01:35.155540",
     "status": "completed"
    },
    "tags": []
   },
   "outputs": [
    {
     "data": {
      "text/plain": [
       "id                   0\n",
       "Season               0\n",
       "city                 7\n",
       "date                 0\n",
       "team1                0\n",
       "team2                0\n",
       "toss_winner          0\n",
       "toss_decision        0\n",
       "result               0\n",
       "dl_applied           0\n",
       "winner               4\n",
       "win_by_runs          0\n",
       "win_by_wickets       0\n",
       "player_of_match      4\n",
       "venue                0\n",
       "umpire1              2\n",
       "umpire2              2\n",
       "umpire3            637\n",
       "dtype: int64"
      ]
     },
     "execution_count": 7,
     "metadata": {},
     "output_type": "execute_result"
    }
   ],
   "source": [
    "# Checking Null Values\n",
    "df_matches.isnull().sum()"
   ]
  },
  {
   "cell_type": "markdown",
   "id": "ff2ba99c",
   "metadata": {},
   "source": [
    "By Looking at the above output, we know that:\n",
    "\n",
    "1. Column 'city' have 7 null values\n",
    "2. Column 'winner' have 4 null values\n",
    "3. Column 'player_of_match' have 4 null values\n",
    "4. Column 'umpire1' have 2 null values\n",
    "5. Column 'umpire2' have 2 null values\n",
    "6. Column 'umpire3' have 637 null values"
   ]
  },
  {
   "cell_type": "markdown",
   "id": "raised-directory",
   "metadata": {
    "execution": {
     "iopub.execute_input": "2021-06-22T09:02:45.248697Z",
     "iopub.status.busy": "2021-06-22T09:02:45.248341Z",
     "iopub.status.idle": "2021-06-22T09:02:45.252586Z",
     "shell.execute_reply": "2021-06-22T09:02:45.251462Z",
     "shell.execute_reply.started": "2021-06-22T09:02:45.248665Z"
    },
    "papermill": {
     "duration": 0.020856,
     "end_time": "2021-09-04T15:01:35.230781",
     "exception": false,
     "start_time": "2021-09-04T15:01:35.209925",
     "status": "completed"
    },
    "tags": []
   },
   "source": [
    "## Exploratory Analysis and Visualization"
   ]
  },
  {
   "cell_type": "markdown",
   "id": "cooked-offering",
   "metadata": {
    "papermill": {
     "duration": 0.020867,
     "end_time": "2021-09-04T15:01:35.273001",
     "exception": false,
     "start_time": "2021-09-04T15:01:35.252134",
     "status": "completed"
    },
    "tags": []
   },
   "source": [
    "#### Finding Number of matches played in each IPL season"
   ]
  },
  {
   "cell_type": "code",
   "execution_count": 9,
   "id": "ongoing-ireland",
   "metadata": {
    "execution": {
     "iopub.execute_input": "2021-09-04T15:01:35.318863Z",
     "iopub.status.busy": "2021-09-04T15:01:35.318173Z",
     "iopub.status.idle": "2021-09-04T15:01:35.638153Z",
     "shell.execute_reply": "2021-09-04T15:01:35.638667Z",
     "shell.execute_reply.started": "2021-09-04T15:01:02.393723Z"
    },
    "papermill": {
     "duration": 0.344625,
     "end_time": "2021-09-04T15:01:35.638854",
     "exception": false,
     "start_time": "2021-09-04T15:01:35.294229",
     "status": "completed"
    },
    "tags": []
   },
   "outputs": [
    {
     "data": {
      "text/plain": [
       "Text(0.5, 1.0, 'Number of matches played in each IPL season')"
      ]
     },
     "execution_count": 9,
     "metadata": {},
     "output_type": "execute_result"
    },
    {
     "data": {
      "image/png": "[encoded data removed]",
      "text/plain": [
       "<Figure size 1080x504 with 1 Axes>"
      ]
     },
     "metadata": {
      "needs_background": "light"
     },
     "output_type": "display_data"
    }
   ],
   "source": [
    "plt.figure(figsize=(15,7))\n",
    "sns.countplot(x='Season',\n",
    "              data=df_matches,\n",
    "              order = df_matches['Season'].value_counts().index.sort_values()\n",
    "              )\n",
    "plt.xlabel('Season',fontsize=12)\n",
    "plt.ylabel('No: of matches',fontsize=12)\n",
    "plt.title('Number of matches played in each IPL season',fontsize=16)"
   ]
  },
  {
   "cell_type": "markdown",
   "id": "through-desperate",
   "metadata": {
    "papermill": {
     "duration": 0.022309,
     "end_time": "2021-09-04T15:01:35.684257",
     "exception": false,
     "start_time": "2021-09-04T15:01:35.661948",
     "status": "completed"
    },
    "tags": []
   },
   "source": [
    "Most number of matches were played in IPL-2013 Season"
   ]
  },
  {
   "cell_type": "markdown",
   "id": "satellite-bones",
   "metadata": {
    "papermill": {
     "duration": 0.021969,
     "end_time": "2021-09-04T15:01:35.728767",
     "exception": false,
     "start_time": "2021-09-04T15:01:35.706798",
     "status": "completed"
    },
    "tags": []
   },
   "source": [
    "#### Matches won by the Teams"
   ]
  },
  {
   "cell_type": "code",
   "execution_count": 12,
   "id": "digital-stations",
   "metadata": {
    "execution": {
     "iopub.execute_input": "2021-09-04T15:01:35.818904Z",
     "iopub.status.busy": "2021-09-04T15:01:35.787123Z",
     "iopub.status.idle": "2021-09-04T15:01:36.094927Z",
     "shell.execute_reply": "2021-09-04T15:01:36.094332Z",
     "shell.execute_reply.started": "2021-07-16T09:13:55.668658Z"
    },
    "papermill": {
     "duration": 0.343049,
     "end_time": "2021-09-04T15:01:36.095068",
     "exception": false,
     "start_time": "2021-09-04T15:01:35.752019",
     "status": "completed"
    },
    "tags": []
   },
   "outputs": [
    {
     "data": {
      "text/plain": [
       "Text(0.5, 1.0, 'Matches won by the Teams')"
      ]
     },
     "execution_count": 12,
     "metadata": {},
     "output_type": "execute_result"
    },
    {
     "data": {
      "image/png": "[encoded data removed]",
      "text/plain": [
       "<Figure size 792x648 with 1 Axes>"
      ]
     },
     "metadata": {
      "needs_background": "light"
     },
     "output_type": "display_data"
    }
   ],
   "source": [
    "# Matches won by the Teams\n",
    "plt.figure(figsize = (11,9))\n",
    "sns.countplot(y = 'winner',\n",
    "              data = df_matches,\n",
    "              order= df_matches['winner'].value_counts().index,\n",
    "              palette = 'magma' )\n",
    "plt.xlabel('No: of Wins',fontsize=12)\n",
    "plt.ylabel('Team',fontsize=12)\n",
    "plt.title('Matches won by the Teams',fontsize=16)"
   ]
  },
  {
   "cell_type": "markdown",
   "id": "selective-woman",
   "metadata": {
    "papermill": {
     "duration": 0.024002,
     "end_time": "2021-09-04T15:01:36.143874",
     "exception": false,
     "start_time": "2021-09-04T15:01:36.119872",
     "status": "completed"
    },
    "tags": []
   },
   "source": [
    "Mumbai Indians won most number of matches followed by Chennai Super Kings"
   ]
  },
  {
   "cell_type": "markdown",
   "id": "similar-burke",
   "metadata": {
    "papermill": {
     "duration": 0.024049,
     "end_time": "2021-09-04T15:01:36.192260",
     "exception": false,
     "start_time": "2021-09-04T15:01:36.168211",
     "status": "completed"
    },
    "tags": []
   },
   "source": [
    "#### No of matches played in stadium, Top 10"
   ]
  },
  {
   "cell_type": "code",
   "execution_count": 13,
   "id": "prescription-cable",
   "metadata": {
    "execution": {
     "iopub.execute_input": "2021-09-04T15:01:36.251965Z",
     "iopub.status.busy": "2021-09-04T15:01:36.250922Z",
     "iopub.status.idle": "2021-09-04T15:01:36.551425Z",
     "shell.execute_reply": "2021-09-04T15:01:36.550780Z",
     "shell.execute_reply.started": "2021-07-16T09:13:55.947554Z"
    },
    "papermill": {
     "duration": 0.335047,
     "end_time": "2021-09-04T15:01:36.551580",
     "exception": false,
     "start_time": "2021-09-04T15:01:36.216533",
     "status": "completed"
    },
    "tags": []
   },
   "outputs": [
    {
     "data": {
      "text/plain": [
       "Text(0.5, 1.0, 'Number of matches played in each Stadium')"
      ]
     },
     "execution_count": 13,
     "metadata": {},
     "output_type": "execute_result"
    },
    {
     "data": {
      "image/png": "[encoded data removed]",
      "text/plain": [
       "<Figure size 864x576 with 1 Axes>"
      ]
     },
     "metadata": {
      "needs_background": "light"
     },
     "output_type": "display_data"
    }
   ],
   "source": [
    "plt.figure(figsize = (12,8))\n",
    "sns.countplot(y = 'venue',\n",
    "              data = df_matches,\n",
    "              order = df_matches['venue'].value_counts().iloc[:10].index,\n",
    "              palette='mako')\n",
    "plt.xlabel('No: of matches',fontsize=12)\n",
    "plt.ylabel('Venue',fontsize=12)\n",
    "plt.title('Number of matches played in each Stadium',fontsize=16)"
   ]
  },
  {
   "cell_type": "markdown",
   "id": "brilliant-newfoundland",
   "metadata": {
    "papermill": {
     "duration": 0.026418,
     "end_time": "2021-09-04T15:01:36.605731",
     "exception": false,
     "start_time": "2021-09-04T15:01:36.579313",
     "status": "completed"
    },
    "tags": []
   },
   "source": [
    "Most number of IPL matches were played in Eden Gardens Stadium, Kolkata"
   ]
  },
  {
   "cell_type": "markdown",
   "id": "dangerous-cruise",
   "metadata": {
    "papermill": {
     "duration": 0.026098,
     "end_time": "2021-09-04T15:01:36.658245",
     "exception": false,
     "start_time": "2021-09-04T15:01:36.632147",
     "status": "completed"
    },
    "tags": []
   },
   "source": [
    "#### Toss Decision"
   ]
  },
  {
   "cell_type": "code",
   "execution_count": 19,
   "id": "integrated-barrel",
   "metadata": {
    "execution": {
     "iopub.execute_input": "2021-09-04T15:01:36.738254Z",
     "iopub.status.busy": "2021-09-04T15:01:36.737511Z",
     "iopub.status.idle": "2021-09-04T15:01:36.825789Z",
     "shell.execute_reply": "2021-09-04T15:01:36.825049Z",
     "shell.execute_reply.started": "2021-07-16T09:13:56.226032Z"
    },
    "papermill": {
     "duration": 0.14107,
     "end_time": "2021-09-04T15:01:36.825954",
     "exception": false,
     "start_time": "2021-09-04T15:01:36.684884",
     "status": "completed"
    },
    "tags": []
   },
   "outputs": [
    {
     "data": {
      "text/plain": [
       "([<matplotlib.patches.Wedge at 0x278fb146c10>,\n",
       "  <matplotlib.patches.Wedge at 0x278fb154280>],\n",
       " [Text(-1.0555461490681073, -0.38916234040242054, 'field'),\n",
       "  Text(1.0555461490681073, 0.3891623404024204, 'bat')],\n",
       " [Text(-0.7271540138024738, -0.26808961227722305, '61.2%'),\n",
       "  Text(0.7271540138024738, 0.26808961227722294, '38.8%')])"
      ]
     },
     "execution_count": 19,
     "metadata": {},
     "output_type": "execute_result"
    },
    {
     "data": {
      "image/png": "[encoded data removed]",
      "text/plain": [
       "<Figure size 432x432 with 1 Axes>"
      ]
     },
     "metadata": {},
     "output_type": "display_data"
    }
   ],
   "source": [
    "plt.figure(figsize=(6,6))\n",
    "sizes = df_matches.toss_decision.value_counts()\n",
    "labels = df_matches.toss_decision.value_counts().index\n",
    "plt.pie(sizes,colors = ['darkviolet','teal'],\n",
    "         labels=labels,\n",
    "         autopct='%1.1f%%',\n",
    "         startangle=90,\n",
    "         pctdistance=0.75,\n",
    "         explode = (0.025,0.025))"
   ]
  },
  {
   "cell_type": "markdown",
   "id": "handed-utilization",
   "metadata": {
    "papermill": {
     "duration": 0.027811,
     "end_time": "2021-09-04T15:01:36.881565",
     "exception": false,
     "start_time": "2021-09-04T15:01:36.853754",
     "status": "completed"
    },
    "tags": []
   },
   "source": [
    "In more than 61% of matches, teams chose to field after winning the toss."
   ]
  },
  {
   "cell_type": "markdown",
   "id": "constitutional-leadership",
   "metadata": {
    "papermill": {
     "duration": 0.027369,
     "end_time": "2021-09-04T15:01:36.936466",
     "exception": false,
     "start_time": "2021-09-04T15:01:36.909097",
     "status": "completed"
    },
    "tags": []
   },
   "source": [
    "#### Toss Decision to field or bat in each IPL season"
   ]
  },
  {
   "cell_type": "code",
   "execution_count": 20,
   "id": "specific-thailand",
   "metadata": {
    "execution": {
     "iopub.execute_input": "2021-09-04T15:01:37.006634Z",
     "iopub.status.busy": "2021-09-04T15:01:37.005199Z",
     "iopub.status.idle": "2021-09-04T15:01:37.340186Z",
     "shell.execute_reply": "2021-09-04T15:01:37.339533Z",
     "shell.execute_reply.started": "2021-07-16T09:13:56.327586Z"
    },
    "papermill": {
     "duration": 0.375264,
     "end_time": "2021-09-04T15:01:37.340325",
     "exception": false,
     "start_time": "2021-09-04T15:01:36.965061",
     "status": "completed"
    },
    "tags": []
   },
   "outputs": [
    {
     "data": {
      "text/plain": [
       "Text(0.5, 1.0, 'Decision to field or bat in each IPL season')"
      ]
     },
     "execution_count": 20,
     "metadata": {},
     "output_type": "execute_result"
    },
    {
     "data": {
      "image/png": "[encoded data removed]",
      "text/plain": [
       "<Figure size 1080x504 with 1 Axes>"
      ]
     },
     "metadata": {
      "needs_background": "light"
     },
     "output_type": "display_data"
    }
   ],
   "source": [
    "plt.figure(figsize=(15,7))\n",
    "sns.countplot(x='Season',\n",
    "              hue='toss_decision',\n",
    "              data=df_matches,\n",
    "              order = df_matches['Season'].value_counts().index.sort_values(),\n",
    "              palette='tab10')\n",
    "plt.xlabel('Season',fontsize=12)\n",
    "plt.ylabel('Count',fontsize=12)\n",
    "plt.title('Decision to field or bat in each IPL season', fontsize=16)"
   ]
  },
  {
   "cell_type": "markdown",
   "id": "leading-relative",
   "metadata": {
    "papermill": {
     "duration": 0.029682,
     "end_time": "2021-09-04T15:01:37.399064",
     "exception": false,
     "start_time": "2021-09-04T15:01:37.369382",
     "status": "completed"
    },
    "tags": []
   },
   "source": [
    "We can see a trend that, decisions to field are more from IPL-2016 Season "
   ]
  },
  {
   "cell_type": "markdown",
   "id": "disturbed-removal",
   "metadata": {
    "papermill": {
     "duration": 0.02858,
     "end_time": "2021-09-04T15:01:37.456669",
     "exception": false,
     "start_time": "2021-09-04T15:01:37.428089",
     "status": "completed"
    },
    "tags": []
   },
   "source": [
    "#### Player of the Match"
   ]
  },
  {
   "cell_type": "code",
   "execution_count": 21,
   "id": "medieval-gateway",
   "metadata": {
    "execution": {
     "iopub.execute_input": "2021-09-04T15:01:37.524182Z",
     "iopub.status.busy": "2021-09-04T15:01:37.523454Z",
     "iopub.status.idle": "2021-09-04T15:01:37.798438Z",
     "shell.execute_reply": "2021-09-04T15:01:37.797784Z",
     "shell.execute_reply.started": "2021-07-16T09:13:56.645494Z"
    },
    "papermill": {
     "duration": 0.313034,
     "end_time": "2021-09-04T15:01:37.798619",
     "exception": false,
     "start_time": "2021-09-04T15:01:37.485585",
     "status": "completed"
    },
    "tags": []
   },
   "outputs": [
    {
     "data": {
      "text/plain": [
       "Text(0, 0.5, 'Count')"
      ]
     },
     "execution_count": 21,
     "metadata": {},
     "output_type": "execute_result"
    },
    {
     "data": {
      "image/png": "[encoded data removed]",
      "text/plain": [
       "<Figure size 1080x504 with 1 Axes>"
      ]
     },
     "metadata": {
      "needs_background": "light"
     },
     "output_type": "display_data"
    }
   ],
   "source": [
    "plt.figure(figsize=(15,7))\n",
    "player_of_match=df_matches['player_of_match'].value_counts()[:10]\n",
    "sns.barplot(player_of_match.index,\n",
    "            player_of_match.values,\n",
    "            palette='viridis')\n",
    "\n",
    "plt.title(\"Player of the Match\",fontsize=15)\n",
    "plt.xlabel('Player',fontsize=12)\n",
    "plt.ylabel('Count',fontsize=12)"
   ]
  },
  {
   "cell_type": "markdown",
   "id": "hispanic-joseph",
   "metadata": {
    "papermill": {
     "duration": 0.030897,
     "end_time": "2021-09-04T15:01:37.860232",
     "exception": false,
     "start_time": "2021-09-04T15:01:37.829335",
     "status": "completed"
    },
    "tags": []
   },
   "source": [
    "Chris Gayle won most Man of the Match Awards"
   ]
  },
  {
   "cell_type": "markdown",
   "id": "9606778a",
   "metadata": {},
   "source": [
    "## Inferences and Conclusion"
   ]
  },
  {
   "cell_type": "markdown",
   "id": "640986c1",
   "metadata": {},
   "source": [
    "The IPL matches analysis report provides some useful insights regarding the IPL matches played between 2008 to 2019. As per the graphs visualizations shown above,\n",
    "- Most number of matches were played in IPL-2013 Season\n",
    "- Mumbai Indians won most number of matches followed by Chennai Super Kings\n",
    "- Most number of IPL matches were played in Eden Gardens Stadium, Kolkata\n",
    "- In more than 61% of matches, teams chose to field after winning the toss.\n",
    "- We can see a trend that, decisions to field are more from IPL-2016, 2018 and 2019 Season \n",
    "- Chris Gayle won most Man of the Match Awards in IPL matches from year 2008 to 2019"
   ]
  }
 ],
 "metadata": {
  "kernelspec": {
   "display_name": "Python 3",
   "language": "python",
   "name": "python3"
  },
  "language_info": {
   "codemirror_mode": {
    "name": "ipython",
    "version": 3
   },
   "file_extension": ".py",
   "mimetype": "text/x-python",
   "name": "python",
   "nbconvert_exporter": "python",
   "pygments_lexer": "ipython3",
   "version": "3.7.10"
  },
  "papermill": {
   "default_parameters": {},
   "duration": 15.028406,
   "end_time": "2021-09-04T15:01:39.390969",
   "environment_variables": {},
   "exception": null,
   "input_path": "__notebook__.ipynb",
   "output_path": "__notebook__.ipynb",
   "parameters": {},
   "start_time": "2021-09-04T15:01:24.362563",
   "version": "2.3.3"
  }
 },
 "nbformat": 4,
 "nbformat_minor": 5
}
